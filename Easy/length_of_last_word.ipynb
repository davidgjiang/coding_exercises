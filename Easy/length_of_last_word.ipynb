{
 "cells": [
  {
   "cell_type": "markdown",
   "metadata": {},
   "source": [
    "##### Length of Last Word (Leetcode, Easy)\n",
    "\n",
    "Given a string `s` consisting of words and spaces, return the length of the last word in the string.\n",
    "\n",
    "A word is a maximal substring consisting of non-space characters only.\n",
    "\n",
    "**Example 1:**\n",
    "* Input: s = \"Hello World\"\n",
    "* Output: 5\n",
    "* Explanation: The last word is \"World\" with length 5.\n",
    "\n",
    "**Example 2:**\n",
    "* Input: s = \"   fly me   to   the moon  \"\n",
    "* Output: 4\n",
    "* Explanation: The last word is \"moon\" with length 4.\n",
    "\n",
    "**Example 3:**\n",
    "* Input: s = \"luffy is still joyboy\"\n",
    "* Output: 6\n",
    "* Explanation: The last word is \"joyboy\" with length 6.\n",
    "\n",
    "**Constraints:**\n",
    "* `1 <= s.length <= 104`\n",
    "* `s` consists of only English letters and spaces `' '`.\n",
    "* There will be at least one word in `s`."
   ]
  },
  {
   "cell_type": "code",
   "execution_count": 1,
   "metadata": {},
   "outputs": [],
   "source": [
    "# runtime 0ms\n",
    "class Solution(object):\n",
    "    def lengthOfLastWord(self, s):\n",
    "        \"\"\"\n",
    "        :type s: str\n",
    "        :rtype: int\n",
    "        \"\"\"\n",
    "        words = s.split()\n",
    "        return len(words[-1])"
   ]
  },
  {
   "cell_type": "code",
   "execution_count": 2,
   "metadata": {},
   "outputs": [
    {
     "name": "stdout",
     "output_type": "stream",
     "text": [
      "5\n",
      "4\n",
      "6\n"
     ]
    }
   ],
   "source": [
    "sol = Solution()\n",
    "print(sol.lengthOfLastWord('Hello World'))\n",
    "print(sol.lengthOfLastWord(' fly me to the moon'))\n",
    "print(sol.lengthOfLastWord('luffy is still joyboy'))"
   ]
  }
 ],
 "metadata": {
  "kernelspec": {
   "display_name": "ml",
   "language": "python",
   "name": "python3"
  },
  "language_info": {
   "codemirror_mode": {
    "name": "ipython",
    "version": 3
   },
   "file_extension": ".py",
   "mimetype": "text/x-python",
   "name": "python",
   "nbconvert_exporter": "python",
   "pygments_lexer": "ipython3",
   "version": "3.11.11"
  }
 },
 "nbformat": 4,
 "nbformat_minor": 2
}
