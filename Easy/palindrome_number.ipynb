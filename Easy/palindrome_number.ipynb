{
 "cells": [
  {
   "cell_type": "markdown",
   "metadata": {},
   "source": [
    "##### Palindrome Number (Leetcode, Easy)\n",
    "\n",
    "Given an integer `x`, return true if `x` is a palindrome, and `false` otherwise.\n",
    "\n",
    "**Example 1:**\n",
    "\n",
    "* Input: `x = 121`\n",
    "* Output: `true`\n",
    "* Explanation: 121 reads as 121 from left to right and from right to left.\n",
    "\n",
    "**Example 2:**\n",
    "\n",
    "* Input: `x = -121`\n",
    "* Output: `false`\n",
    "* Explanation: From left to right, it reads -121. From right to left, it becomes 121-. Therefore it is not a palindrome.\n",
    "\n",
    "**Example 3:**\n",
    "\n",
    "* Input: `x = 10`\n",
    "* Output: `false`\n",
    "* Explanation: Reads 01 from right to left. Therefore it is not a palindrome.\n",
    "\n",
    " \n",
    "\n",
    "**Constraints:**\n",
    "\n",
    "`-231 <= x <= 231 - 1`\n",
    " \n",
    "\n",
    "Follow up: Could you solve it without converting the integer to a string?"
   ]
  },
  {
   "cell_type": "code",
   "execution_count": 1,
   "metadata": {},
   "outputs": [],
   "source": [
    "# converting to string\n",
    "class Solution(object):\n",
    "    def isPalindrome(self, x):\n",
    "        \"\"\"\n",
    "        :type x: int\n",
    "        :rtype: bool\n",
    "        \"\"\"\n",
    "        x = str(x)\n",
    "        y = x[::-1]\n",
    "        if x == y:\n",
    "            return True\n",
    "        else:\n",
    "            return False"
   ]
  },
  {
   "cell_type": "markdown",
   "metadata": {},
   "source": [
    "##### Test"
   ]
  },
  {
   "cell_type": "code",
   "execution_count": 2,
   "metadata": {},
   "outputs": [
    {
     "name": "stdout",
     "output_type": "stream",
     "text": [
      "True\n",
      "False\n",
      "False\n"
     ]
    }
   ],
   "source": [
    "sol = Solution()\n",
    "print(sol.isPalindrome(121))\n",
    "print(sol.isPalindrome(-121))\n",
    "print(sol.isPalindrome(10))"
   ]
  },
  {
   "cell_type": "code",
   "execution_count": 3,
   "metadata": {},
   "outputs": [],
   "source": [
    "# without  converting to string\n",
    "class Solution(object):\n",
    "    def isPalindrome(self, x):\n",
    "        \"\"\"\n",
    "        :type x: int\n",
    "        :rtype: bool\n",
    "        \"\"\"\n",
    "        reverse = 0\n",
    "        temp = x\n",
    "        while (x > 0):\n",
    "            digit = x % 10\n",
    "            reverse = reverse*10 + digit\n",
    "            x = x // 10\n",
    "        if temp == reverse:\n",
    "            return True\n",
    "        else:\n",
    "            return False"
   ]
  },
  {
   "cell_type": "markdown",
   "metadata": {},
   "source": [
    "##### Test"
   ]
  },
  {
   "cell_type": "code",
   "execution_count": 4,
   "metadata": {},
   "outputs": [
    {
     "name": "stdout",
     "output_type": "stream",
     "text": [
      "True\n",
      "False\n",
      "False\n"
     ]
    }
   ],
   "source": [
    "sol = Solution()\n",
    "print(sol.isPalindrome(121))\n",
    "print(sol.isPalindrome(-121))\n",
    "print(sol.isPalindrome(10))"
   ]
  }
 ],
 "metadata": {
  "kernelspec": {
   "display_name": "ml",
   "language": "python",
   "name": "python3"
  },
  "language_info": {
   "codemirror_mode": {
    "name": "ipython",
    "version": 3
   },
   "file_extension": ".py",
   "mimetype": "text/x-python",
   "name": "python",
   "nbconvert_exporter": "python",
   "pygments_lexer": "ipython3",
   "version": "3.11.11"
  }
 },
 "nbformat": 4,
 "nbformat_minor": 2
}
