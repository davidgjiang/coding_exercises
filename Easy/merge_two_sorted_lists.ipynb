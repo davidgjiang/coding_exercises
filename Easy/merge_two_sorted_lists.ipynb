{
 "cells": [
  {
   "cell_type": "markdown",
   "metadata": {},
   "source": [
    "##### Merge Two Sorted Lists (Leetcode, Easy)\n",
    "\n",
    "You are given the **heads** of two sorted linked lists `list1` and `list2`.\n",
    "\n",
    "Merge the two lists into one sorted list. The list should be made by splicing together the nodes of the first two lists.\n",
    "\n",
    "Return the head of the merged linked list.\n",
    "\n",
    "**Example 1:**\n",
    "* Input: `list1 = [1,2,4]`, `list2 = [1,3,4]`\n",
    "* Output: `[1,1,2,3,4,4]`\n",
    "\n",
    "**Example 2:**\n",
    "* Input: `list1 = []`, `list2 = []`\n",
    "* Output: `[]`\n",
    "\n",
    "**Example 3:**\n",
    "* Input: `list1 = []`, `list2 = [0]`\n",
    "* Output: `[0]`\n",
    "\n",
    "**Constraints:**\n",
    "\n",
    "* The number of nodes in both lists is in the range `[0, 50]`.\n",
    "* `-100 <= Node.val <= 100`\n",
    "* Both `list1` and `list2` are sorted in non-decreasing order."
   ]
  },
  {
   "cell_type": "code",
   "execution_count": 2,
   "metadata": {},
   "outputs": [],
   "source": [
    "class ListNode(object):\n",
    "     def __init__(self, val=0, next=None):\n",
    "        self.val = val\n",
    "        self.next = next\n",
    "\n",
    "class Solution(object):\n",
    "    def mergeTwoLists(self, list1, list2):\n",
    "        \"\"\"\n",
    "        :type list1: Optional[ListNode]\n",
    "        :type list2: Optional[ListNode]\n",
    "        :rtype: Optional[ListNode]\n",
    "        \"\"\"\n",
    "        if not list1:\n",
    "            return list2\n",
    "        \n",
    "        if not list2:\n",
    "            return list1\n",
    "        \n",
    "        if list2.val > list1.val:\n",
    "            head = list1\n",
    "            tail = self.mergeTwoLists(list1.next, list2)\n",
    "        else:\n",
    "            head = list2\n",
    "            tail = self.mergeTwoLists(list1, list2.next)\n",
    "        \n",
    "        head.next = tail\n",
    "\n",
    "        return head "
   ]
  }
 ],
 "metadata": {
  "kernelspec": {
   "display_name": "ml",
   "language": "python",
   "name": "python3"
  },
  "language_info": {
   "codemirror_mode": {
    "name": "ipython",
    "version": 3
   },
   "file_extension": ".py",
   "mimetype": "text/x-python",
   "name": "python",
   "nbconvert_exporter": "python",
   "pygments_lexer": "ipython3",
   "version": "3.11.11"
  }
 },
 "nbformat": 4,
 "nbformat_minor": 2
}
