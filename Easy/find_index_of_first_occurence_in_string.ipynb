{
 "cells": [
  {
   "cell_type": "markdown",
   "metadata": {},
   "source": [
    "##### Find the Index of the First Occurence in a String (Leetcode, Easy)\n",
    "\n",
    "Given two strings `needle` and `haystack`, return the index of the first occurrence of `needle` in `haystack`, or `-1` if `needle` is not part of `haystack`.\n",
    "\n",
    "**Example 1:** \n",
    "* Input: `haystack = \"sadbutsad\"`, `needle = \"sad\"`\n",
    "* Output: `0`\n",
    "* Explanation: `\"sad\"` occurs at index `0` and `6`.\n",
    "* The first occurrence is at index `0`, so we return `0`.\n",
    "\n",
    "**Example 2:** \n",
    "* Input: `haystack = \"leetcode\"`, `needle = \"leeto\"`\n",
    "* Output: `-1`\n",
    "* Explanation: `\"leeto\"` did not occur in `\"leetcode\"`, so we return `-1`.\n",
    " \n",
    "\n",
    "**Constraints:**\n",
    "\n",
    "* `1 <= haystack.length`, `needle.length <= 104`\n",
    "* `haystack` and `needle` consist of only lowercase English characters.\n",
    "\n"
   ]
  },
  {
   "cell_type": "code",
   "execution_count": 1,
   "metadata": {},
   "outputs": [],
   "source": [
    "# runtime 0ms\n",
    "class Solution(object):\n",
    "    def strStr(self, haystack, needle):\n",
    "        \"\"\"\n",
    "        :type haystack: str\n",
    "        :type needle: str\n",
    "        :rtype: int\n",
    "        \"\"\" \n",
    "        index = -1\n",
    "        for i in range(len(haystack) - len(needle) + 1):\n",
    "            temp = haystack[i:len(needle)+i]\n",
    "            if needle == temp:\n",
    "                index = i\n",
    "                break\n",
    "        return index"
   ]
  },
  {
   "cell_type": "code",
   "execution_count": 2,
   "metadata": {},
   "outputs": [
    {
     "name": "stdout",
     "output_type": "stream",
     "text": [
      "0\n",
      "-1\n"
     ]
    }
   ],
   "source": [
    "sol = Solution()\n",
    "print(sol.strStr('sadbutsad', 'sad'))\n",
    "print(sol.strStr('leetcode', 'leeto'))"
   ]
  }
 ],
 "metadata": {
  "kernelspec": {
   "display_name": "ml",
   "language": "python",
   "name": "python3"
  },
  "language_info": {
   "codemirror_mode": {
    "name": "ipython",
    "version": 3
   },
   "file_extension": ".py",
   "mimetype": "text/x-python",
   "name": "python",
   "nbconvert_exporter": "python",
   "pygments_lexer": "ipython3",
   "version": "3.11.11"
  }
 },
 "nbformat": 4,
 "nbformat_minor": 2
}
