{
 "cells": [
  {
   "cell_type": "markdown",
   "metadata": {},
   "source": [
    "##### Longest Palindromic Substring (Leetcode, Medium)\n",
    "\n",
    "Given a string `s`, return the longest palindromic substring in `s`.\n",
    "\n",
    "**Example 1:**\n",
    "* Input: `s = \"babad\"`\n",
    "* Output: `\"bab\"`\n",
    "* Explanation: `\"aba\"` is also a valid answer.\n",
    "\n",
    "**Example 2:**\n",
    "* Input: `s = \"cbbd\"`\n",
    "* Output: `\"bb\"`\n",
    " \n",
    "**Constraints:**\n",
    "* `1 <= s.length <= 1000`\n",
    "* `s` consist of only digits and English letters."
   ]
  },
  {
   "cell_type": "code",
   "execution_count": 1,
   "metadata": {},
   "outputs": [],
   "source": [
    "# initial attempt: runtime exceeded but still seems right\n",
    "class Solution(object):\n",
    "    def longestPalindrome(self, s):\n",
    "        \"\"\"\n",
    "        :type s: str\n",
    "        :rtype: str\n",
    "        \"\"\"\n",
    "        substring = ''\n",
    "        longest = 0\n",
    "        for i in range(len(s)):\n",
    "            for j in range(i+1):\n",
    "                if s[j:i+1] == s[j:i+1][::-1]:\n",
    "                    if len(s[j:i+1]) > longest:\n",
    "                        longest = len(s[j:i+1])\n",
    "                        substring = s[j:i+1]\n",
    "\n",
    "        return substring"
   ]
  },
  {
   "cell_type": "code",
   "execution_count": 2,
   "metadata": {},
   "outputs": [
    {
     "name": "stdout",
     "output_type": "stream",
     "text": [
      "bab\n",
      "bb\n",
      "a\n",
      "bb\n"
     ]
    }
   ],
   "source": [
    "sol = Solution()\n",
    "print(sol.longestPalindrome('babad'))\n",
    "print(sol.longestPalindrome('cbbd'))\n",
    "print(sol.longestPalindrome('a'))\n",
    "print(sol.longestPalindrome('bb'))"
   ]
  },
  {
   "cell_type": "code",
   "execution_count": 3,
   "metadata": {},
   "outputs": [],
   "source": [
    "# second attempt: 8526ms (still slow but accepted)\n",
    "class Solution(object):\n",
    "    def longestPalindrome(self, s):\n",
    "        \"\"\"\n",
    "        :type s: str\n",
    "        :rtype: str\n",
    "        \"\"\"\n",
    "        substring = ''\n",
    "        longest = 0\n",
    "        for i in range(len(s)): # loop through each possible length of palindrome\n",
    "            start = 0\n",
    "            stop = start + 1 + i\n",
    "            search = True\n",
    "            while search:\n",
    "                if s[start:stop] == s[start:stop][::-1]:\n",
    "                    substring = s[start:stop]\n",
    "                    search = False\n",
    "                elif stop == len(s):\n",
    "                    search = False\n",
    "                else:\n",
    "                    start += 1\n",
    "                    stop = start + 1 + i\n",
    "        return substring"
   ]
  },
  {
   "cell_type": "code",
   "execution_count": 4,
   "metadata": {},
   "outputs": [
    {
     "name": "stdout",
     "output_type": "stream",
     "text": [
      "bab\n",
      "bb\n",
      "a\n",
      "bb\n"
     ]
    }
   ],
   "source": [
    "sol = Solution()\n",
    "print(sol.longestPalindrome('babad'))\n",
    "print(sol.longestPalindrome('cbbd'))\n",
    "print(sol.longestPalindrome('a'))\n",
    "print(sol.longestPalindrome('bb'))"
   ]
  }
 ],
 "metadata": {
  "kernelspec": {
   "display_name": "ml",
   "language": "python",
   "name": "python3"
  },
  "language_info": {
   "codemirror_mode": {
    "name": "ipython",
    "version": 3
   },
   "file_extension": ".py",
   "mimetype": "text/x-python",
   "name": "python",
   "nbconvert_exporter": "python",
   "pygments_lexer": "ipython3",
   "version": "3.11.11"
  }
 },
 "nbformat": 4,
 "nbformat_minor": 2
}
