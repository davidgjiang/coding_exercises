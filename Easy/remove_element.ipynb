{
 "cells": [
  {
   "cell_type": "markdown",
   "metadata": {},
   "source": [
    "##### Remove Element (Leetcode, Easy)\n",
    "\n",
    "Given an integer array `nums` and an integer `val`, remove all occurrences of `val` in `nums` in-place. The order of the elements may be changed. Then return the number of elements in `nums` which are not equal to `val`.\n",
    "\n",
    "Consider the number of elements in `nums` which are not equal to `val` be `k`, to get accepted, you need to do the following things:\n",
    "\n",
    "* Change the array `nums` such that the first `k` elements of `nums` contain the elements which are not equal to `val`. \n",
    "* The remaining elements of `nums` are not important as well as the size of `nums`.\n",
    "* Return `k`."
   ]
  },
  {
   "cell_type": "markdown",
   "metadata": {},
   "source": [
    "**Example 1:**\n",
    "\n",
    "* Input: `nums = [3,2,2,3]`, `val = 3`\n",
    "* Output: `2`, `nums = [2,2,_,_]`\n",
    "* Explanation: Your function should return `k = 2`, with the first two elements of `nums` being `2`.\n",
    "* It does not matter what you leave beyond the returned `k` (hence they are underscores).\n",
    "\n",
    "**Example 2:**\n",
    "\n",
    "* Input: `nums = [0,1,2,2,3,0,4,2]`, `val = 2`\n",
    "* Output: `5`, `nums = [0,1,4,0,3,_,_,_]`\n",
    "* Explanation: Your function should return `k = 5`, with the first five elements of `nums` containing `0`, `0`, `1`, `3`, and `4`.\n",
    "* Note that the five elements can be returned in any order.\n",
    "* It does not matter what you leave beyond the returned `k` (hence they are underscores).\n",
    " \n",
    "**Constraints:**\n",
    "\n",
    "* `0 <= nums.length <= 100`\n",
    "* `0 <= nums[i] <= 50`\n",
    "* `0 <= val <= 100`"
   ]
  },
  {
   "cell_type": "code",
   "execution_count": 1,
   "metadata": {},
   "outputs": [],
   "source": [
    "# initial attempt (best runtime 0ms)\n",
    "class Solution(object):\n",
    "    def removeElement(self, nums, val):\n",
    "        \"\"\"\n",
    "        :type nums: List[int]\n",
    "        :type val: int\n",
    "        :rtype: int\n",
    "        \"\"\"\n",
    "        jar = []    # store the values that are not equal to val\n",
    "\n",
    "        for i in range(len(nums)):\n",
    "            if nums[i] == val:\n",
    "                nums[i] = 200\n",
    "            else:\n",
    "                jar.append(nums[i])\n",
    "\n",
    "        for j in range(len(nums)):\n",
    "            if j >= len(jar):\n",
    "                nums[j] = 200\n",
    "            else:\n",
    "                nums[j] = jar[j]\n",
    "\n",
    "        return len(jar)"
   ]
  },
  {
   "cell_type": "code",
   "execution_count": 2,
   "metadata": {},
   "outputs": [
    {
     "name": "stdout",
     "output_type": "stream",
     "text": [
      "2\n",
      "5\n"
     ]
    }
   ],
   "source": [
    "sol = Solution()\n",
    "print(sol.removeElement([3,2,2,3], 3))\n",
    "print(sol.removeElement([0,1,2,2,3,0,4,2], 2))"
   ]
  },
  {
   "cell_type": "code",
   "execution_count": 3,
   "metadata": {},
   "outputs": [],
   "source": [
    "# another method, simpler (also best runtime 0ms)\n",
    "class Solution(object):\n",
    "    def removeElement(self, nums, val):\n",
    "        \"\"\"\n",
    "        :type nums: List[int]\n",
    "        :type val: int\n",
    "        :rtype: int\n",
    "        \"\"\"\n",
    "        j = 0\n",
    "        for num in nums:\n",
    "            if num != val:\n",
    "                nums[j] = num\n",
    "                j += 1\n",
    "            \n",
    "        return j"
   ]
  },
  {
   "cell_type": "code",
   "execution_count": 4,
   "metadata": {},
   "outputs": [
    {
     "name": "stdout",
     "output_type": "stream",
     "text": [
      "2\n",
      "5\n"
     ]
    }
   ],
   "source": [
    "sol = Solution()\n",
    "print(sol.removeElement([3,2,2,3], 3))\n",
    "print(sol.removeElement([0,1,2,2,3,0,4,2], 2))"
   ]
  }
 ],
 "metadata": {
  "kernelspec": {
   "display_name": "ml",
   "language": "python",
   "name": "python3"
  },
  "language_info": {
   "codemirror_mode": {
    "name": "ipython",
    "version": 3
   },
   "file_extension": ".py",
   "mimetype": "text/x-python",
   "name": "python",
   "nbconvert_exporter": "python",
   "pygments_lexer": "ipython3",
   "version": "3.11.11"
  }
 },
 "nbformat": 4,
 "nbformat_minor": 2
}
