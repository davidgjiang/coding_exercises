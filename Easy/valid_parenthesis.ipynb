{
 "cells": [
  {
   "cell_type": "markdown",
   "metadata": {},
   "source": [
    "##### Valid Parenthesis (Leetcode, Easy)\n",
    "\n",
    "Given a string s containing just the characters `'('`, `')'`, `'{'`, `'}`, `'['` and `']'`, determine if the input string is valid.\n",
    "\n",
    "An input string is valid if:\n",
    "\n",
    "* Open brackets must be closed by the same type of brackets.\n",
    "* Open brackets must be closed in the correct order.\n",
    "* Every close bracket has a corresponding open bracket of the same type."
   ]
  },
  {
   "cell_type": "markdown",
   "metadata": {},
   "source": [
    "**Example 1:**\n",
    "\n",
    "* Input: `s = \"()\"`\n",
    "\n",
    "* Output: `true`\n",
    "\n",
    "**Example 2:**\n",
    "\n",
    "* Input: `s = \"()[]{}\"`\n",
    "\n",
    "* Output: `true`\n",
    "\n",
    "**Example 3:**\n",
    "\n",
    "* Input: `s = \"(]\"`\n",
    "\n",
    "* Output: `false`\n",
    "\n",
    "**Example 4:**\n",
    "\n",
    "* Input: `s = \"\"`\n",
    "\n",
    "* Output: `true`\n",
    "\n",
    " \n",
    "\n",
    "**Constraints:**\n",
    "\n",
    "* `1 <= s.length <= 104`\n",
    "* `s` consists of parentheses only `'()[]{}'`."
   ]
  },
  {
   "cell_type": "code",
   "execution_count": 1,
   "metadata": {},
   "outputs": [],
   "source": [
    "# initial attempt O(n^2)\n",
    "class Solution(object):\n",
    "    def isValid(self, s):\n",
    "        \"\"\"\n",
    "        :type s: str\n",
    "        :rtype: bool\n",
    "        \"\"\"\n",
    "        replaced = True\n",
    "        while replaced and s:\n",
    "            original_length = len(s)\n",
    "            s = s.replace('()', '')\n",
    "            s = s.replace('[]', '')\n",
    "            s = s.replace('{}','')\n",
    "            final_length = len(s)\n",
    "            if original_length > final_length:\n",
    "                replaced = True\n",
    "            else:\n",
    "                return False\n",
    "            \n",
    "        return replaced"
   ]
  },
  {
   "cell_type": "code",
   "execution_count": 2,
   "metadata": {},
   "outputs": [
    {
     "name": "stdout",
     "output_type": "stream",
     "text": [
      "True\n",
      "True\n",
      "False\n",
      "True\n",
      "False\n",
      "False\n",
      "False\n"
     ]
    }
   ],
   "source": [
    "sol = Solution()\n",
    "print(sol.isValid(\"()\"))\n",
    "print(sol.isValid(\"()[]{}\"))\n",
    "print(sol.isValid(\"(]\"))\n",
    "print(sol.isValid(\"([])\"))\n",
    "print(sol.isValid(\"([)]\"))\n",
    "print(sol.isValid(\"[\"))\n",
    "print(sol.isValid(\"[([]])\"))"
   ]
  },
  {
   "cell_type": "code",
   "execution_count": 3,
   "metadata": {},
   "outputs": [],
   "source": [
    "# second attempt\n",
    "class Solution(object):\n",
    "    def isValid(self, s):\n",
    "        \"\"\"\n",
    "        :type s: str\n",
    "        :rtype: bool\n",
    "        \"\"\"\n",
    "        my_dict = {')': '(', ']': '[', '}': '{'}\n",
    "        char_list = []\n",
    "\n",
    "        for char in s:\n",
    "            if char in my_dict:\n",
    "                if not char_list: # if the character list is empty\n",
    "                    return False\n",
    "                elif char_list.pop() != my_dict[char]:\n",
    "                    return False\n",
    "            else:\n",
    "                char_list.append(char) \n",
    "\n",
    "        if len(char_list) > 0:\n",
    "            return False\n",
    "\n",
    "        return True"
   ]
  },
  {
   "cell_type": "code",
   "execution_count": 4,
   "metadata": {},
   "outputs": [
    {
     "name": "stdout",
     "output_type": "stream",
     "text": [
      "True\n",
      "True\n",
      "False\n",
      "True\n",
      "False\n",
      "False\n",
      "False\n"
     ]
    }
   ],
   "source": [
    "sol = Solution()\n",
    "print(sol.isValid(\"()\"))\n",
    "print(sol.isValid(\"()[]{}\"))\n",
    "print(sol.isValid(\"(]\"))\n",
    "print(sol.isValid(\"([])\"))\n",
    "print(sol.isValid(\"([)]\"))\n",
    "print(sol.isValid(\"[\"))\n",
    "print(sol.isValid(\"[([]])\"))"
   ]
  }
 ],
 "metadata": {
  "kernelspec": {
   "display_name": "ml",
   "language": "python",
   "name": "python3"
  },
  "language_info": {
   "codemirror_mode": {
    "name": "ipython",
    "version": 3
   },
   "file_extension": ".py",
   "mimetype": "text/x-python",
   "name": "python",
   "nbconvert_exporter": "python",
   "pygments_lexer": "ipython3",
   "version": "3.11.11"
  }
 },
 "nbformat": 4,
 "nbformat_minor": 2
}
