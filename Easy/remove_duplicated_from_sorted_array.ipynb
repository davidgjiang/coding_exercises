{
 "cells": [
  {
   "cell_type": "markdown",
   "metadata": {},
   "source": [
    "##### Remove Duplicates from Sorted Array (Leetcode, Easy)\n",
    "\n",
    "Given an integer array `nums` sorted in non-decreasing order, remove the duplicates in-place such that each unique element appears only once. The relative order of the elements should be kept the same. Then return the number of unique elements in `nums`.\n",
    "\n",
    "Consider the number of unique elements of `nums` to be `k`, to get accepted, you need to do the following things:\n",
    "\n",
    "* Change the array `nums` such that the first `k` elements of `nums` contain the unique elements in the order they were present in nums initially. The remaining elements of `nums` are not important as well as the size of `nums`.\n",
    "* Return `k`.\n",
    "\n",
    "**Example 1:**\n",
    "* Input: `nums = [1,1,2]`\n",
    "* Output: `2`, `nums = [1,2,_]`\n",
    "* Explanation: Your function should return `k = 2`, with the first two elements of `nums` being 1 and 2 respectively.\n",
    "* It does not matter what you leave beyond the returned `k` (hence they are underscores).\n",
    "\n",
    "**Example 2:**\n",
    "* Input: `nums = [0,0,1,1,1,2,2,3,3,4]`\n",
    "* Output: `5`, `nums = [0,1,2,3,4,_,_,_,_,_]`\n",
    "* Explanation: Your function should return `k = 5`, with the first five elements of `nums` being `0`, `1`,`2`, `3`, and `4` respectively.\n",
    "* It does not matter what you leave beyond the returned `k` (hence they are underscores).\n",
    "\n",
    "**Constraints:**\n",
    "* `1 <= nums.length <= 3 * 10**4`\n",
    "* `-100 <= nums[i] <= 100`\n",
    "* `nums` is sorted in non-decreasing order."
   ]
  },
  {
   "cell_type": "code",
   "execution_count": 1,
   "metadata": {},
   "outputs": [],
   "source": [
    "class Solution(object):\n",
    "    def removeDuplicates(self, nums):\n",
    "        \"\"\"\n",
    "        :type nums: List[int]\n",
    "        :rtype: int\n",
    "        \"\"\"\n",
    "        size = len(nums)\n",
    "        jar = []\n",
    "        for i in range(size):\n",
    "            if not (nums[i] in jar):\n",
    "                jar.append(nums[i])\n",
    "        \n",
    "        for j in range(size):\n",
    "            if j >= len(jar):\n",
    "                nums[j] = 0\n",
    "            else:\n",
    "                nums[j] = jar[j]\n",
    "        \n",
    "        return len(jar)  "
   ]
  },
  {
   "cell_type": "code",
   "execution_count": 2,
   "metadata": {},
   "outputs": [
    {
     "name": "stdout",
     "output_type": "stream",
     "text": [
      "2\n",
      "5\n",
      "6\n",
      "0\n"
     ]
    }
   ],
   "source": [
    "sol = Solution()\n",
    "print(sol.removeDuplicates([1,1,2]))\n",
    "print(sol.removeDuplicates([0,0,1,1,1,2,2,3,3,4]))\n",
    "print(sol.removeDuplicates([-1,0,0,1,1,2,3,3,4]))\n",
    "print(sol.removeDuplicates([]))"
   ]
  }
 ],
 "metadata": {
  "kernelspec": {
   "display_name": "ml",
   "language": "python",
   "name": "python3"
  },
  "language_info": {
   "codemirror_mode": {
    "name": "ipython",
    "version": 3
   },
   "file_extension": ".py",
   "mimetype": "text/x-python",
   "name": "python",
   "nbconvert_exporter": "python",
   "pygments_lexer": "ipython3",
   "version": "3.11.11"
  }
 },
 "nbformat": 4,
 "nbformat_minor": 2
}
