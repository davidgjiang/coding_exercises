{
 "cells": [
  {
   "cell_type": "markdown",
   "metadata": {},
   "source": [
    "##### Add Two Numbers (Leetcode, Medium)\n",
    "\n",
    "You are given two non-empty linked lists representing two non-negative integers. The digits are stored in reverse order, and each of their nodes contains a single digit. Add the two numbers and return the sum as a linked list.\n",
    "\n",
    "You may assume the two numbers do not contain any leading zero, except the number 0 itself.\n",
    "\n",
    "**Example 1:**\n",
    "* Input: `l1 = [2,4,3]`, `l2 = [5,6,4]`\n",
    "* Output: `[7,0,8]`\n",
    "* Explanation: `342 + 465 = 807`.\n",
    "\n",
    "**Example 2:**\n",
    "* Input: `l1 = [0]`, `l2 = [0]`\n",
    "* Output: `[0]`\n",
    "\n",
    "**Example 3:**\n",
    "* Input: `l1 = [9,9,9,9,9,9,9]`, `l2 = [9,9,9,9]`\n",
    "* Output: `[8,9,9,9,0,0,0,1]`\n",
    "\n",
    "**Constraints:**\n",
    "* The number of nodes in each linked list is in the range `[1, 100]`.\n",
    "* `0 <= Node.val <= 9`\n",
    "* It is guaranteed that the list represents a number that does not have leading zeros."
   ]
  },
  {
   "cell_type": "code",
   "execution_count": 1,
   "metadata": {},
   "outputs": [],
   "source": [
    "class ListNode(object):\n",
    "    def __init__(self, val=0, next=None):\n",
    "        self.val = val\n",
    "        self.next = next\n",
    "\n",
    "# runtime 14ms\n",
    "class Solution(object):\n",
    "    def addTwoNumbers(self, l1, l2):\n",
    "        \"\"\"\n",
    "        :type l1: Optional[ListNode]\n",
    "        :type l2: Optional[ListNode]\n",
    "        :rtype: Optional[ListNode]\n",
    "        \"\"\"\n",
    "        if not l1 and not l2:\n",
    "            return None\n",
    "        if not l1:\n",
    "            l1 = ListNode(0)\n",
    "        elif not l2:\n",
    "            l2 = ListNode(0)\n",
    "        sum = l1.val + l2.val\n",
    "        if sum >= 10:\n",
    "            sum = sum % 10\n",
    "            if not l1.next:\n",
    "                l1.next = ListNode(1)\n",
    "            else: \n",
    "                l1.next.val += 1\n",
    "        head = ListNode(sum)\n",
    "        head.next = self.addTwoNumbers(l1.next, l2.next)\n",
    "        return head"
   ]
  }
 ],
 "metadata": {
  "kernelspec": {
   "display_name": "ml",
   "language": "python",
   "name": "python3"
  },
  "language_info": {
   "codemirror_mode": {
    "name": "ipython",
    "version": 3
   },
   "file_extension": ".py",
   "mimetype": "text/x-python",
   "name": "python",
   "nbconvert_exporter": "python",
   "pygments_lexer": "ipython3",
   "version": "3.11.11"
  }
 },
 "nbformat": 4,
 "nbformat_minor": 2
}
