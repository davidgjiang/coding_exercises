{
 "cells": [
  {
   "cell_type": "markdown",
   "metadata": {},
   "source": [
    "##### Plus One (Leetcode, Easy)\n",
    "You are given a large integer represented as an integer array `digits`, where each `digits[i]` is the i-th digit of the integer. The digits are ordered from most significant to least significant in left-to-right order. The large integer does not contain any leading `0`'s.\n",
    "\n",
    "Increment the large integer by one and return the resulting array of digits.\n",
    "\n",
    "\n",
    "**Example 1:**\n",
    "* Input: `digits = [1,2,3]`\n",
    "* Output: `[1,2,4]`\n",
    "* Explanation: The array represents the integer `123`.\n",
    "* Incrementing by one gives `123 + 1 = 124`.\n",
    "* Thus, the result should be `[1,2,4]`.\n",
    "\n",
    "**Example 2:**\n",
    "* Input: `digits = [4,3,2,1]`\n",
    "* Output: `[4,3,2,2]`\n",
    "* Explanation: The array represents the integer `4321`.\n",
    "* Incrementing by one gives `4321 + 1 = 4322`.\n",
    "* Thus, the result should be `[4,3,2,2]`.\n",
    "\n",
    "**Example 3:**\n",
    "* Input: `digits = [9]`\n",
    "* Output: `[1,0]`\n",
    "* Explanation: The array represents the integer `9`.\n",
    "* Incrementing by one gives `9 + 1 = 10`.\n",
    "* Thus, the result should be `[1,0]`.\n",
    "\n",
    "**Constraints:**\n",
    "* `1 <= digits.length <= 100`\n",
    "* `0 <= digits[i] <= 9`\n",
    "* `digits` does not contain any leading `0`'s."
   ]
  },
  {
   "cell_type": "code",
   "execution_count": 1,
   "metadata": {},
   "outputs": [],
   "source": [
    "# runtime 0ms\n",
    "class Solution(object):\n",
    "    def plusOne(self, digits):\n",
    "        \"\"\"\n",
    "        :type digits: List[int]\n",
    "        :rtype: List[int]\n",
    "        \"\"\"\n",
    "        order = 1\n",
    "        sum = 1\n",
    "        for i in range(len(digits)):\n",
    "            sum += digits[-i-1]*order\n",
    "            order = order*10\n",
    "        output = []\n",
    "        while sum > 0:\n",
    "            digit = sum % 10\n",
    "            sum = sum // 10\n",
    "            output.append(digit)\n",
    "        output.reverse()\n",
    "        return output\n"
   ]
  },
  {
   "cell_type": "code",
   "execution_count": 2,
   "metadata": {},
   "outputs": [
    {
     "name": "stdout",
     "output_type": "stream",
     "text": [
      "[1, 2, 4]\n",
      "[4, 3, 2, 2]\n",
      "[1, 0]\n"
     ]
    }
   ],
   "source": [
    "sol = Solution()\n",
    "print(sol.plusOne([1,2,3]))\n",
    "print(sol.plusOne([4,3,2,1]))\n",
    "print(sol.plusOne([9]))"
   ]
  }
 ],
 "metadata": {
  "kernelspec": {
   "display_name": "ml",
   "language": "python",
   "name": "python3"
  },
  "language_info": {
   "codemirror_mode": {
    "name": "ipython",
    "version": 3
   },
   "file_extension": ".py",
   "mimetype": "text/x-python",
   "name": "python",
   "nbconvert_exporter": "python",
   "pygments_lexer": "ipython3",
   "version": "3.11.11"
  }
 },
 "nbformat": 4,
 "nbformat_minor": 2
}
