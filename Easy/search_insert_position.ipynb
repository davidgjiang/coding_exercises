{
 "cells": [
  {
   "cell_type": "markdown",
   "metadata": {},
   "source": [
    "##### Seach Insert Position\n",
    "\n",
    "Given a sorted array of distinct integers and a target value, return the index if the target is found. If not, return the index where it would be if it were inserted in order.\n",
    "\n",
    "You must write an algorithm with `O(log n)` runtime complexity.\n",
    "\n",
    " \n",
    "\n",
    "**Example 1:**\n",
    "* Input: nums = [1,3,5,6], target = 5\n",
    "* Output: 2\n",
    "\n",
    "**Example 2:**\n",
    "* Input: nums = [1,3,5,6], target = 2\n",
    "* Output: 1\n",
    "\n",
    "**Example 3:**\n",
    "* Input: nums = [1,3,5,6], target = 7\n",
    "* Output: 4\n",
    "\n",
    "**Constraints:**\n",
    "* `1 <= nums.length <= 104`\n",
    "* `-104 <= nums[i] <= 104`\n",
    "* `nums` contains distinct values sorted in ascending order.\n",
    "* `-104 <= target <= 104`"
   ]
  },
  {
   "cell_type": "code",
   "execution_count": 1,
   "metadata": {},
   "outputs": [],
   "source": [
    "# runtime 0 ms\n",
    "class Solution(object):\n",
    "    def searchInsert(self, nums, target):\n",
    "        \"\"\"\n",
    "        :type nums: List[int]\n",
    "        :type target: int\n",
    "        :rtype: int\n",
    "        \"\"\"\n",
    "        # first, check edge and matching case (eliminates a lot of time)\n",
    "        if target in nums:\n",
    "            return nums.index(target)\n",
    "        elif target < min(nums):\n",
    "            return 0\n",
    "        elif target > max(nums):\n",
    "            return len(nums)\n",
    "        # steal the index of the first element greater than it\n",
    "        else:\n",
    "            for i in range(len(nums)): \n",
    "                if nums[i] > target:\n",
    "                    return i"
   ]
  },
  {
   "cell_type": "code",
   "execution_count": 2,
   "metadata": {},
   "outputs": [
    {
     "name": "stdout",
     "output_type": "stream",
     "text": [
      "2\n",
      "1\n",
      "4\n",
      "2\n"
     ]
    }
   ],
   "source": [
    "sol = Solution()\n",
    "print(sol.searchInsert([1,3,5,6], 5))\n",
    "print(sol.searchInsert([1,3,5,6], 2))\n",
    "print(sol.searchInsert([1,3,5,6], 7))\n",
    "print(sol.searchInsert([3,4,9,10], 5))"
   ]
  }
 ],
 "metadata": {
  "kernelspec": {
   "display_name": "ml",
   "language": "python",
   "name": "python3"
  },
  "language_info": {
   "codemirror_mode": {
    "name": "ipython",
    "version": 3
   },
   "file_extension": ".py",
   "mimetype": "text/x-python",
   "name": "python",
   "nbconvert_exporter": "python",
   "pygments_lexer": "ipython3",
   "version": "3.11.11"
  }
 },
 "nbformat": 4,
 "nbformat_minor": 2
}
