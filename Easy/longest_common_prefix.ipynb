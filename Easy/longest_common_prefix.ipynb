{
 "cells": [
  {
   "cell_type": "markdown",
   "metadata": {},
   "source": [
    "##### Longest Common Prefix (Leetcode, Easy)\n",
    "\n",
    "Write a function to find the longest common prefix string amongst an array of strings.\n",
    "\n",
    "If there is no common prefix, return an empty string `\"\"`.\n",
    "\n",
    "**Example 1:**\n",
    "\n",
    "* Input: strs = [\"flower\",\"flow\",\"flight\"]\n",
    "* Output: \"fl\"\n",
    "\n",
    "**Example 2:**\n",
    "\n",
    "* Input: strs = [\"dog\",\"racecar\",\"car\"]\n",
    "* Output: \"\"\n",
    "* Explanation: There is no common prefix among the input strings.\n",
    " \n",
    "\n",
    "**Constraints:**\n",
    "\n",
    "* `1 <= strs.length <= 200`\n",
    "* `0 <= strs[i].length <= 200`\n",
    "* `strs[i]` consists of only lowercase English letters."
   ]
  },
  {
   "cell_type": "code",
   "execution_count": 1,
   "metadata": {},
   "outputs": [],
   "source": [
    "class Solution(object):\n",
    "    def longestCommonPrefix(self, strs):\n",
    "        \"\"\"\n",
    "        :type strs: List[str]\n",
    "        :rtype: str\n",
    "        \"\"\"\n",
    "        prefix = \"\"\n",
    "        \n",
    "        for i in range(len(strs[0])): \n",
    "            prefixes = list(map(lambda x: x[0:i+1], strs)) # prefixes of every word in the list\n",
    "            if all(x == prefixes[0] for x in prefixes) == False:\n",
    "                break\n",
    "            else:\n",
    "                prefix = prefixes[0]\n",
    "        return prefix"
   ]
  },
  {
   "cell_type": "code",
   "execution_count": 2,
   "metadata": {},
   "outputs": [
    {
     "name": "stdout",
     "output_type": "stream",
     "text": [
      "fl\n",
      "\n",
      "\n"
     ]
    }
   ],
   "source": [
    "sol = Solution()\n",
    "print(sol.longestCommonPrefix([\"flower\",\"flow\",\"flight\"]))\n",
    "print(sol.longestCommonPrefix([\"dog\",\"racecar\",\"car\"]))\n",
    "print(sol.longestCommonPrefix([\"\"]))"
   ]
  }
 ],
 "metadata": {
  "kernelspec": {
   "display_name": "ml",
   "language": "python",
   "name": "python3"
  },
  "language_info": {
   "codemirror_mode": {
    "name": "ipython",
    "version": 3
   },
   "file_extension": ".py",
   "mimetype": "text/x-python",
   "name": "python",
   "nbconvert_exporter": "python",
   "pygments_lexer": "ipython3",
   "version": "3.11.11"
  }
 },
 "nbformat": 4,
 "nbformat_minor": 2
}
