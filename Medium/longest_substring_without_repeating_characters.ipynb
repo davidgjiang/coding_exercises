{
 "cells": [
  {
   "cell_type": "markdown",
   "metadata": {},
   "source": [
    "##### Longest Substring Without Repeating Characters (Leetcode, Medium)\n",
    "\n",
    "Given a string `s`, find the length of the longest substring without repeating characters.\n",
    "\n",
    "**Example 1:**\n",
    "* Input: `s = \"abcabcbb\"`\n",
    "* Output: `3`\n",
    "* Explanation: The answer is `\"abc\"`, with the length of `3`.\n",
    "\n",
    "**Example 2:**\n",
    "* Input: `s = \"bbbbb\"`\n",
    "* Output: `1`\n",
    "* Explanation: The answer is `\"b\"`, with the length of `1`.\n",
    "\n",
    "**Example 3:**\n",
    "* Input: `s = \"pwwkew\"`\n",
    "* Output: `3`\n",
    "* Explanation: The answer is `\"wke\"`, with the length of `3`.\n",
    "* Notice that the answer must be a substring, `\"pwke\"` is a subsequence and not a substring.\n",
    " \n",
    "\n",
    "**Constraints:**\n",
    "* `0 <= s.length <= 5 * 104`\n",
    "* `s` consists of English letters, digits, symbols and spaces."
   ]
  },
  {
   "cell_type": "code",
   "execution_count": 1,
   "metadata": {},
   "outputs": [],
   "source": [
    "# runtime 31ms\n",
    "class Solution(object):\n",
    "    def lengthOfLongestSubstring(self, s):\n",
    "        \"\"\"\n",
    "        :type s: str\n",
    "        :rtype: int\n",
    "        \"\"\"\n",
    "        longest = 0\n",
    "        jar = []\n",
    "        for i in range(len(s)):\n",
    "            # repeat encounter\n",
    "            if s[i] in jar:\n",
    "                if len(jar) > longest:\n",
    "                    longest = len(jar)\n",
    "                jar = jar[jar.index(s[i])+1:]\n",
    "            jar.append(s[i])\n",
    "            # reached end\n",
    "            if i+1 == len(s):\n",
    "                if len(jar) > longest:\n",
    "                    longest = len(jar)\n",
    "        return longest"
   ]
  },
  {
   "cell_type": "code",
   "execution_count": 2,
   "metadata": {},
   "outputs": [
    {
     "name": "stdout",
     "output_type": "stream",
     "text": [
      "3\n",
      "1\n",
      "3\n",
      "1\n",
      "3\n",
      "5\n"
     ]
    }
   ],
   "source": [
    "sol = Solution()\n",
    "print(sol.lengthOfLongestSubstring('abcabcbb'))\n",
    "print(sol.lengthOfLongestSubstring('bbbbb'))\n",
    "print(sol.lengthOfLongestSubstring('pwwkew'))\n",
    "print(sol.lengthOfLongestSubstring(' '))\n",
    "print(sol.lengthOfLongestSubstring('dvdf'))\n",
    "print(sol.lengthOfLongestSubstring('ckilbkd'))"
   ]
  }
 ],
 "metadata": {
  "kernelspec": {
   "display_name": "ml",
   "language": "python",
   "name": "python3"
  },
  "language_info": {
   "codemirror_mode": {
    "name": "ipython",
    "version": 3
   },
   "file_extension": ".py",
   "mimetype": "text/x-python",
   "name": "python",
   "nbconvert_exporter": "python",
   "pygments_lexer": "ipython3",
   "version": "3.11.11"
  }
 },
 "nbformat": 4,
 "nbformat_minor": 2
}
