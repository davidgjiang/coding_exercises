{
 "cells": [
  {
   "cell_type": "markdown",
   "metadata": {},
   "source": [
    "##### Two Sum (Leetcode, Easy)\n",
    "\n",
    "Given an array of integers `nums` and an integer `target`, return indices of the two numbers such that they add up to `target`.\n",
    "\n",
    "You may assume that each input would have exactly one solution, and you may not use the same element twice.\n",
    "\n",
    "You can return the answer in any order."
   ]
  },
  {
   "cell_type": "markdown",
   "metadata": {},
   "source": [
    "**Example 1:**\n",
    "\n",
    "* Input: `nums = [2,7,11,15]`, `target = 9`\n",
    "* Output: `[0,1]`\n",
    "* Explanation: Because `nums[0] + nums[1] == 9`, we return `[0, 1]`.\n",
    "\n",
    "**Example 2:**\n",
    "\n",
    "* Input: `nums = [3,2,4]`, `target = 6`\n",
    "* Output: `[1,2]`\n",
    "\n",
    "**Example 3:**\n",
    "\n",
    "* Input: `nums = [3,3]`, `target = 6`\n",
    "* Output: `[0,1]`\n",
    " \n",
    "\n",
    "**Constraints:**\n",
    "\n",
    "* `2 <= nums.length <= 104`\n",
    "* `-109 <= nums[i] <= 109`\n",
    "* `-109 <= target <= 109`\n",
    "* Only one valid answer exists."
   ]
  },
  {
   "cell_type": "code",
   "execution_count": 9,
   "metadata": {},
   "outputs": [],
   "source": [
    "# Time complexity O(n^2)\n",
    "class Solution(object):\n",
    "    def twoSum(self, nums, target):\n",
    "        \"\"\"\n",
    "        :type nums: List[int]\n",
    "        :type target: int\n",
    "        :rtype: List[int]\n",
    "        \"\"\"\n",
    "        for i in range(len(nums)):\n",
    "            for j in range(len(nums)):\n",
    "                if i != j and nums[i] + nums[j] == target:\n",
    "                    return [i, j]          "
   ]
  },
  {
   "cell_type": "markdown",
   "metadata": {},
   "source": [
    "##### Test"
   ]
  },
  {
   "cell_type": "code",
   "execution_count": 2,
   "metadata": {},
   "outputs": [
    {
     "name": "stdout",
     "output_type": "stream",
     "text": [
      "[0, 1]\n",
      "[1, 2]\n",
      "[0, 1]\n"
     ]
    }
   ],
   "source": [
    "sol = Solution()\n",
    "print(sol.twoSum([2,7,11,15],9))\n",
    "print(sol.twoSum([3,2,4],6))\n",
    "print(sol.twoSum([3,3],6))"
   ]
  },
  {
   "cell_type": "code",
   "execution_count": 3,
   "metadata": {},
   "outputs": [],
   "source": [
    "# Time complexity O(n)\n",
    "import numpy as np\n",
    "\n",
    "class Solution(object):\n",
    "    def twoSum(self, nums, target):\n",
    "        \"\"\"\n",
    "        :type nums: List[int]\n",
    "        :type target: int\n",
    "        :rtype: List[int]\n",
    "        \"\"\"\n",
    "        nums = np.array(nums)\n",
    "        target_minus_nums = target - nums\n",
    "        indices = []\n",
    "        for i in range(len(nums)):\n",
    "            if len(np.where(nums[i] == target_minus_nums)[0]) == 2:\n",
    "                indices.append(i)\n",
    "            elif nums[i] in target_minus_nums and i != np.where(nums[i] == target_minus_nums)[0][0]:\n",
    "                indices.append(i)\n",
    "        \n",
    "        return indices"
   ]
  },
  {
   "cell_type": "markdown",
   "metadata": {},
   "source": [
    "##### Test"
   ]
  },
  {
   "cell_type": "code",
   "execution_count": 4,
   "metadata": {},
   "outputs": [
    {
     "name": "stdout",
     "output_type": "stream",
     "text": [
      "[0, 1]\n",
      "[1, 2]\n",
      "[0, 1]\n"
     ]
    }
   ],
   "source": [
    "sol = Solution()\n",
    "print(sol.twoSum([2,7,11,15],9))\n",
    "print(sol.twoSum([3,2,4],6))\n",
    "print(sol.twoSum([3,3],6))"
   ]
  }
 ],
 "metadata": {
  "kernelspec": {
   "display_name": "ml",
   "language": "python",
   "name": "python3"
  },
  "language_info": {
   "codemirror_mode": {
    "name": "ipython",
    "version": 3
   },
   "file_extension": ".py",
   "mimetype": "text/x-python",
   "name": "python",
   "nbconvert_exporter": "python",
   "pygments_lexer": "ipython3",
   "version": "3.11.11"
  }
 },
 "nbformat": 4,
 "nbformat_minor": 2
}
