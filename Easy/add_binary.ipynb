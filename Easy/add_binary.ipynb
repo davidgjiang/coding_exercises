{
 "cells": [
  {
   "cell_type": "markdown",
   "metadata": {},
   "source": [
    "##### Add Binary (Leetcode, Easy)\n",
    "\n",
    "Given two binary strings `a` and `b`, return their sum as a binary string.\n",
    "\n",
    " \n",
    "\n",
    "**Example 1:**\n",
    "* Input: `a = \"11\"`, `b = \"1\"`\n",
    "* Output: `\"100\"`\n",
    "\n",
    "**Example 2:**\n",
    "* Input: `a = \"1010\"`, `b = \"1011\"`\n",
    "* Output: `\"10101\"`\n",
    "\n",
    "**Constraints:**\n",
    "* `1 <= a.length, b.length <= 104`\n",
    "* `a` and `b` consist only of `'0'` or `'1'` characters.\n",
    "* Each string does not contain leading zeros except for the zero itself."
   ]
  },
  {
   "cell_type": "markdown",
   "metadata": {},
   "source": [
    "##### Rules for Binary Addition\n",
    "* 0 + 0 = 0\n",
    "* 0 + 1 = 1\n",
    "* 1 + 0 = 1\n",
    "* 1 + 1 =10"
   ]
  },
  {
   "cell_type": "code",
   "execution_count": 1,
   "metadata": {},
   "outputs": [],
   "source": [
    "# runtime 3ms \n",
    "class Solution(object):\n",
    "    def addBinary(self, a, b):\n",
    "        \"\"\"\n",
    "        :type a: str\n",
    "        :type b: str\n",
    "        :rtype: str\n",
    "        \"\"\"\n",
    "        combos_1 = ['00', '11', '110', '101']\n",
    "        combos_2 = ['10', '01', '100', '111']\n",
    "        stack = ''\n",
    "        output = []\n",
    "\n",
    "        for i in range(max(len(a), len(b))):\n",
    "            if i >= len(a):\n",
    "                a_num = '0'\n",
    "            else:\n",
    "                a_num = a[-i-1]\n",
    "            if i >= len(b):\n",
    "                b_num = '0'\n",
    "            else:\n",
    "                b_num = b[-i-1]\n",
    "            add = ''.join([stack, a_num, b_num])\n",
    "            if add in combos_1:\n",
    "                output.append('0')\n",
    "                if add != '00':\n",
    "                    stack = '1'\n",
    "                else:\n",
    "                    stack = ''\n",
    "            else:\n",
    "                output.append('1')\n",
    "                if add == '111':\n",
    "                    stack = '1'\n",
    "                else:\n",
    "                    stack = ''\n",
    "\n",
    "        output.append(stack)\n",
    "        output.reverse()\n",
    "        \n",
    "        return ''.join(output)"
   ]
  },
  {
   "cell_type": "code",
   "execution_count": 2,
   "metadata": {},
   "outputs": [
    {
     "name": "stdout",
     "output_type": "stream",
     "text": [
      "100\n",
      "10101\n"
     ]
    }
   ],
   "source": [
    "sol = Solution()\n",
    "print(sol.addBinary('1', '11'))\n",
    "print(sol.addBinary('1010', '1011'))"
   ]
  }
 ],
 "metadata": {
  "kernelspec": {
   "display_name": "ml",
   "language": "python",
   "name": "python3"
  },
  "language_info": {
   "codemirror_mode": {
    "name": "ipython",
    "version": 3
   },
   "file_extension": ".py",
   "mimetype": "text/x-python",
   "name": "python",
   "nbconvert_exporter": "python",
   "pygments_lexer": "ipython3",
   "version": "3.11.11"
  }
 },
 "nbformat": 4,
 "nbformat_minor": 2
}
