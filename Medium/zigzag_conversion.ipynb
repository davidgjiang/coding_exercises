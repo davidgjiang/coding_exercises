{
 "cells": [
  {
   "cell_type": "markdown",
   "metadata": {},
   "source": [
    "##### Zigzag Conversion\n",
    "\n",
    "The string `\"PAYPALISHIRING\"` is written in a zigzag pattern on a given number of rows like this: (you may want to display this pattern in a fixed font for better legibility)\n",
    "\n",
    "[can't really display here]\n",
    "\n",
    "And then read line by line: `\"PAHNAPLSIIGYIR\"`\n",
    "\n",
    "Write the code that will take a string and make this conversion given a number of rows:\n",
    "\n",
    "`string convert(string s, int numRows);`\n",
    " \n",
    "**Example 1:**\n",
    "* Input: `s = \"PAYPALISHIRING\"`, `numRows = 3`\n",
    "* Output: `\"PAHNAPLSIIGYIR\"`\n",
    "\n",
    "**Example 2:**\n",
    "* Input: `s = \"PAYPALISHIRING\"`, `numRows = 4`\n",
    "* Output: `\"PINALSIGYAHRPI\"`\n",
    "\n",
    "**Example 3:**\n",
    "* Input: `s = \"A\"`, `numRows = 1`\n",
    "* Output: `\"A\"`\n",
    " \n",
    "**Constraints:**\n",
    "* `1 <= s.length <= 1000`\n",
    "* `s` consists of English letters (lower-case and upper-case), `','` and `'.'`.\n",
    "* `1 <= numRows <= 1000`"
   ]
  },
  {
   "cell_type": "code",
   "execution_count": 10,
   "metadata": {},
   "outputs": [],
   "source": [
    "class Solution(object):\n",
    "    def convert(self, s, numRows):\n",
    "        \"\"\"\n",
    "        :type s: str\n",
    "        :type numRows: int\n",
    "        :rtype: str\n",
    "        \"\"\"\n",
    "        if numRows == 1 or numRows >= len(s): # no zigzag occurence\n",
    "            return s\n",
    "\n",
    "        idx, d = 0, 1\n",
    "        rows = [[] for _ in range(numRows)]   # set up a 2d matrix\n",
    "\n",
    "        for char in s:\n",
    "            rows[idx].append(char)\n",
    "            if idx == 0:                      # d represents the direction: 1 == up, -1 == down\n",
    "                d = 1                         # if we are at the top, we set the direction to go down\n",
    "            elif idx == numRows - 1:          # if we are at the bottom, we set the direction to go up\n",
    "                d = -1                        \n",
    "            idx += d\n",
    "\n",
    "        for i in range(len(rows)):             # concatenating the rows\n",
    "            rows[i] = ''.join(rows[i])\n",
    "                \n",
    "        return ''.join(rows)"
   ]
  },
  {
   "cell_type": "code",
   "execution_count": 12,
   "metadata": {},
   "outputs": [
    {
     "name": "stdout",
     "output_type": "stream",
     "text": [
      "PAHNAPLSIIGYIR\n",
      "PINALSIGYAHRPI\n",
      "A\n"
     ]
    }
   ],
   "source": [
    "sol = Solution()\n",
    "print(sol.convert('PAYPALISHIRING', 3))\n",
    "print(sol.convert('PAYPALISHIRING', 4))\n",
    "print(sol.convert('A', 1))"
   ]
  }
 ],
 "metadata": {
  "kernelspec": {
   "display_name": "ml",
   "language": "python",
   "name": "python3"
  },
  "language_info": {
   "codemirror_mode": {
    "name": "ipython",
    "version": 3
   },
   "file_extension": ".py",
   "mimetype": "text/x-python",
   "name": "python",
   "nbconvert_exporter": "python",
   "pygments_lexer": "ipython3",
   "version": "3.11.11"
  }
 },
 "nbformat": 4,
 "nbformat_minor": 2
}
